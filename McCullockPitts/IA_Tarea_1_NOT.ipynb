{
  "nbformat": 4,
  "nbformat_minor": 0,
  "metadata": {
    "colab": {
      "provenance": []
    },
    "kernelspec": {
      "name": "python3",
      "display_name": "Python 3"
    },
    "language_info": {
      "name": "python"
    }
  },
  "cells": [
    {
      "cell_type": "code",
      "execution_count": 1,
      "metadata": {
        "colab": {
          "base_uri": "https://localhost:8080/"
        },
        "id": "pzFU-Ny00wT2",
        "outputId": "f60ad5d8-665f-42bd-81bc-6add101df6c7"
      },
      "outputs": [
        {
          "output_type": "stream",
          "name": "stdout",
          "text": [
            "x | salida | esperada\n",
            "0  |    1    |    1\n",
            "1  |    0    |    0\n"
          ]
        }
      ],
      "source": [
        "# Neurona McCulloch-Pitts para la operación NOT\n",
        "\n",
        "# Entradas y salidas esperadas\n",
        "entradas = [0, 1]\n",
        "salidas_esperadas = [1, 0]\n",
        "\n",
        "# Peso y umbral\n",
        "w = -1\n",
        "umbral = -0.5\n",
        "\n",
        "def neurona_NOT(x):\n",
        "    suma = x*w\n",
        "    if suma >= umbral:\n",
        "        return 1\n",
        "    else:\n",
        "        return 0\n",
        "\n",
        "print(\"x | salida | esperada\")\n",
        "for x, salida_esp in zip(entradas, salidas_esperadas):\n",
        "    salida = neurona_NOT(x)\n",
        "    print(x, \" |   \", salida, \"   |   \", salida_esp)\n"
      ]
    },
    {
      "cell_type": "markdown",
      "source": [
        "Aquí la neurona invierte la entrada.\n",
        "Si metes 0, la salida es 1.\n",
        "Si metes 1, la salida es 0.\n",
        "Por eso actúa como una compuerta NOT :)"
      ],
      "metadata": {
        "id": "HFkNSiCt1YIx"
      }
    }
  ]
}