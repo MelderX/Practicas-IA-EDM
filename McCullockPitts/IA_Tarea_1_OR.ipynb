{
  "nbformat": 4,
  "nbformat_minor": 0,
  "metadata": {
    "colab": {
      "provenance": []
    },
    "kernelspec": {
      "name": "python3",
      "display_name": "Python 3"
    },
    "language_info": {
      "name": "python"
    }
  },
  "cells": [
    {
      "cell_type": "code",
      "execution_count": 1,
      "metadata": {
        "colab": {
          "base_uri": "https://localhost:8080/"
        },
        "id": "MMQubrbl0JZV",
        "outputId": "af86ad30-3d6f-44d0-fdb8-dbbc0ac73e01"
      },
      "outputs": [
        {
          "output_type": "stream",
          "name": "stdout",
          "text": [
            "x1 | x2 | salida | esperada\n",
            "0  |  0  |    0   |    0\n",
            "0  |  1  |    1   |    1\n",
            "1  |  0  |    1   |    1\n",
            "1  |  1  |    1   |    1\n"
          ]
        }
      ],
      "source": [
        "# Neurona McCulloch-Pitts para la operación OR\n",
        "\n",
        "# Entradas y salidas esperadas\n",
        "entradas = [(0,0), (0,1), (1,0), (1,1)]\n",
        "salidas_esperadas = [0, 1, 1, 1]\n",
        "\n",
        "# Pesos y umbral\n",
        "w1 = 1\n",
        "w2 = 1\n",
        "umbral = 1\n",
        "\n",
        "def neurona_OR(x1, x2):\n",
        "    suma = x1*w1 + x2*w2\n",
        "    if suma >= umbral:\n",
        "        return 1\n",
        "    else:\n",
        "        return 0\n",
        "\n",
        "print(\"x1 | x2 | salida | esperada\")\n",
        "for (x1, x2), salida_esp in zip(entradas, salidas_esperadas):\n",
        "    salida = neurona_OR(x1, x2)\n",
        "    print(x1, \" | \", x2, \" |   \", salida, \"  |   \", salida_esp)\n"
      ]
    },
    {
      "cell_type": "markdown",
      "source": [
        "La neurona suma las entradas y si esa suma llega al umbral (1), da como resultado 1.\n",
        "Así funciona como una compuerta OR, porque solo da 0 cuando ambas entradas son 0 :)"
      ],
      "metadata": {
        "id": "IuEP0wRv1Htr"
      }
    }
  ]
}